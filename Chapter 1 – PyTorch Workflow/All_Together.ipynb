{
  "nbformat": 4,
  "nbformat_minor": 0,
  "metadata": {
    "colab": {
      "provenance": [],
      "gpuType": "T4",
      "authorship_tag": "ABX9TyPyzhybYDtSxQvhO66BN98f",
      "include_colab_link": true
    },
    "kernelspec": {
      "name": "python3",
      "display_name": "Python 3"
    },
    "language_info": {
      "name": "python"
    },
    "accelerator": "GPU"
  },
  "cells": [
    {
      "cell_type": "markdown",
      "metadata": {
        "id": "view-in-github",
        "colab_type": "text"
      },
      "source": [
        "<a href=\"https://colab.research.google.com/github/Shadoww002/PyTorch-Learning/blob/main/Chapter%201%20%E2%80%93%20PyTorch%20Workflow/All_Together.ipynb\" target=\"_parent\"><img src=\"https://colab.research.google.com/assets/colab-badge.svg\" alt=\"Open In Colab\"/></a>"
      ]
    },
    {
      "cell_type": "markdown",
      "source": [
        "# Putting all together\n"
      ],
      "metadata": {
        "id": "ef8HEHVVIxb4"
      }
    },
    {
      "cell_type": "code",
      "source": [
        "import torch\n",
        "from torch import nn\n",
        "import numpy as np\n",
        "import matplotlib.pyplot as plt\n"
      ],
      "metadata": {
        "id": "I3VdidCvI5Xe"
      },
      "execution_count": 47,
      "outputs": []
    },
    {
      "cell_type": "markdown",
      "source": [
        "**Setting the Device agnostic code**"
      ],
      "metadata": {
        "id": "GI0LUt66zU_b"
      }
    },
    {
      "cell_type": "code",
      "source": [
        "device = \"cuda\" if torch.cuda.is_available() else \"cpu\""
      ],
      "metadata": {
        "id": "0xNsVmE2JRdE"
      },
      "execution_count": 48,
      "outputs": []
    },
    {
      "cell_type": "code",
      "source": [
        "device"
      ],
      "metadata": {
        "colab": {
          "base_uri": "https://localhost:8080/",
          "height": 35
        },
        "id": "kUvccxHKC9M6",
        "outputId": "70ea69e3-35af-4e7e-dbb1-ead28269576f"
      },
      "execution_count": 49,
      "outputs": [
        {
          "output_type": "execute_result",
          "data": {
            "text/plain": [
              "'cuda'"
            ],
            "application/vnd.google.colaboratory.intrinsic+json": {
              "type": "string"
            }
          },
          "metadata": {},
          "execution_count": 49
        }
      ]
    },
    {
      "cell_type": "code",
      "source": [
        "weight = 0.9\n",
        "bias = 0.2\n",
        "\n",
        "start = 0\n",
        "end = 10\n",
        "step =0.01\n",
        "\n",
        "X = torch.arange(start , end ,step).unsqueeze(dim=1)\n",
        "y = weight * X + bias"
      ],
      "metadata": {
        "id": "bTAIGWoCzsjK"
      },
      "execution_count": 50,
      "outputs": []
    },
    {
      "cell_type": "code",
      "source": [
        "X[:10]"
      ],
      "metadata": {
        "colab": {
          "base_uri": "https://localhost:8080/"
        },
        "id": "3lJxuijCJNQ8",
        "outputId": "4144ab24-fb7b-4036-ea4c-8050dbff2745"
      },
      "execution_count": 51,
      "outputs": [
        {
          "output_type": "execute_result",
          "data": {
            "text/plain": [
              "tensor([[0.0000],\n",
              "        [0.0100],\n",
              "        [0.0200],\n",
              "        [0.0300],\n",
              "        [0.0400],\n",
              "        [0.0500],\n",
              "        [0.0600],\n",
              "        [0.0700],\n",
              "        [0.0800],\n",
              "        [0.0900]])"
            ]
          },
          "metadata": {},
          "execution_count": 51
        }
      ]
    },
    {
      "cell_type": "code",
      "source": [
        "y[:10]"
      ],
      "metadata": {
        "colab": {
          "base_uri": "https://localhost:8080/"
        },
        "id": "RjOX_HNh0dV6",
        "outputId": "a7d0b83a-1dd0-4658-9464-c5c4722dd7a3"
      },
      "execution_count": 52,
      "outputs": [
        {
          "output_type": "execute_result",
          "data": {
            "text/plain": [
              "tensor([[0.2000],\n",
              "        [0.2090],\n",
              "        [0.2180],\n",
              "        [0.2270],\n",
              "        [0.2360],\n",
              "        [0.2450],\n",
              "        [0.2540],\n",
              "        [0.2630],\n",
              "        [0.2720],\n",
              "        [0.2810]])"
            ]
          },
          "metadata": {},
          "execution_count": 52
        }
      ]
    },
    {
      "cell_type": "code",
      "source": [
        "X_split = int(0.8 * len(X))"
      ],
      "metadata": {
        "id": "Q2tnmkWV0rGV"
      },
      "execution_count": 53,
      "outputs": []
    },
    {
      "cell_type": "code",
      "source": [
        "y_split = int(0.8 * len(y))"
      ],
      "metadata": {
        "id": "yMGKunw201d5"
      },
      "execution_count": 54,
      "outputs": []
    },
    {
      "cell_type": "code",
      "source": [
        "X_train , y_train = X[:X_split] , y[:y_split]"
      ],
      "metadata": {
        "id": "PDjJINf702wc"
      },
      "execution_count": 55,
      "outputs": []
    },
    {
      "cell_type": "code",
      "source": [
        "X_test , y_test = X[X_split:] , y[y_split:]"
      ],
      "metadata": {
        "id": "9sMrhHix1QVk"
      },
      "execution_count": 56,
      "outputs": []
    },
    {
      "cell_type": "code",
      "source": [
        "len(X_train) ,len(X_test) , len(y_train) ,len(y_test)"
      ],
      "metadata": {
        "colab": {
          "base_uri": "https://localhost:8080/"
        },
        "id": "4DGfs9Q81b0k",
        "outputId": "7f26aa48-650e-4891-94f1-8c713a441362"
      },
      "execution_count": 57,
      "outputs": [
        {
          "output_type": "execute_result",
          "data": {
            "text/plain": [
              "(800, 200, 800, 200)"
            ]
          },
          "metadata": {},
          "execution_count": 57
        }
      ]
    },
    {
      "cell_type": "markdown",
      "source": [
        "**Plotting The Data**"
      ],
      "metadata": {
        "id": "eXQj874T2Ddi"
      }
    },
    {
      "cell_type": "code",
      "source": [
        "def plot_predictions(x_train,\n",
        "                     x_test,\n",
        "                     y_train,\n",
        "                     y_test,\n",
        "                     predictions=None):\n",
        "  plt.figure(figsize=(10,7))\n",
        "\n",
        "  plt.scatter(x_train , y_train , c=\"b\" ,s=5 , label=\"Training Data\")\n",
        "  plt.scatter(x_test , y_test , c=\"g\" ,s=5 ,label=\"Testing Data\")\n",
        "\n",
        "  if predictions is not None :\n",
        "    plt.scatter(x_test , predictions , c=\"r\",s=5,label=\"Predictions\")\n",
        "\n",
        "  plt.legend()\n",
        "\n"
      ],
      "metadata": {
        "id": "lyVsqNsv1lJS"
      },
      "execution_count": 58,
      "outputs": []
    },
    {
      "cell_type": "code",
      "source": [
        "plot_predictions(X_train,X_test,y_train,y_test)"
      ],
      "metadata": {
        "colab": {
          "base_uri": "https://localhost:8080/",
          "height": 467
        },
        "id": "Q-k7qnQ92L-q",
        "outputId": "aa6ce30a-1894-4d6f-fe60-4256e4ffbbc8"
      },
      "execution_count": 59,
      "outputs": [
        {
          "output_type": "display_data",
          "data": {
            "text/plain": [
              "<Figure size 1000x700 with 1 Axes>"
            ],
            "image/png": "[encoded data removed]"
          },
          "metadata": {}
        }
      ]
    },
    {
      "cell_type": "markdown",
      "source": [
        "**Building The Model**"
      ],
      "metadata": {
        "id": "8YllUkKt5yCK"
      }
    },
    {
      "cell_type": "code",
      "source": [
        "torch.manual_seed(42)\n",
        "\n",
        "class LinearRegressionModel(nn.Module):\n",
        "  def __init__(self):\n",
        "    super().__init__()\n",
        "    self.weight = nn.Parameter(torch.randn(1,\n",
        "                                            dtype=torch.float,\n",
        "                                            requires_grad=True))\n",
        "    self.bias = nn.Parameter(torch.randn(1,\n",
        "                                         dtype=torch.float,\n",
        "                                         requires_grad=True))\n",
        "\n",
        "  def forward(self , x : torch.tensor) -> torch.tensor:\n",
        "    return weight * x + bias\n",
        "\n",
        "\n"
      ],
      "metadata": {
        "id": "luemssbs4OtT"
      },
      "execution_count": 60,
      "outputs": []
    },
    {
      "cell_type": "code",
      "source": [
        "model_1 = LinearRegressionModel()\n",
        "model_1"
      ],
      "metadata": {
        "colab": {
          "base_uri": "https://localhost:8080/"
        },
        "id": "2TMjlJtG6NpR",
        "outputId": "19d140a5-8e5a-43ab-9f8f-cedf86694997"
      },
      "execution_count": 61,
      "outputs": [
        {
          "output_type": "execute_result",
          "data": {
            "text/plain": [
              "LinearRegressionModel()"
            ]
          },
          "metadata": {},
          "execution_count": 61
        }
      ]
    },
    {
      "cell_type": "code",
      "source": [
        "# creating model using pytorch Linear Model\n",
        "torch.manual_seed(42)\n",
        "\n",
        "class LinearModel2(nn.Module):\n",
        "  def __init__(self):\n",
        "    super().__init__()\n",
        "    self.linear_layer = nn.Linear(in_features=1,\n",
        "                                  out_features=1)\n",
        "\n",
        "  def forward(self , x : torch.tensor) -> torch.tensor:\n",
        "    return self.linear_layer(x)\n",
        "\n"
      ],
      "metadata": {
        "id": "Tyv-ekCu8ChZ"
      },
      "execution_count": 62,
      "outputs": []
    },
    {
      "cell_type": "code",
      "source": [
        "model_1 = LinearModel2()\n",
        "model_1 , model_1.state_dict()"
      ],
      "metadata": {
        "colab": {
          "base_uri": "https://localhost:8080/"
        },
        "id": "rBS4WJuX7nI_",
        "outputId": "d3fbce93-0500-4071-dfd5-afa103dba520"
      },
      "execution_count": 63,
      "outputs": [
        {
          "output_type": "execute_result",
          "data": {
            "text/plain": [
              "(LinearModel2(\n",
              "   (linear_layer): Linear(in_features=1, out_features=1, bias=True)\n",
              " ),\n",
              " OrderedDict([('linear_layer.weight', tensor([[0.7645]])),\n",
              "              ('linear_layer.bias', tensor([0.8300]))]))"
            ]
          },
          "metadata": {},
          "execution_count": 63
        }
      ]
    },
    {
      "cell_type": "code",
      "source": [
        "next(model_1.parameters()).device"
      ],
      "metadata": {
        "colab": {
          "base_uri": "https://localhost:8080/"
        },
        "id": "D-6ijQOA-Y6g",
        "outputId": "f8b99863-2eb2-4167-8f7a-5831f6367df8"
      },
      "execution_count": 64,
      "outputs": [
        {
          "output_type": "execute_result",
          "data": {
            "text/plain": [
              "device(type='cpu')"
            ]
          },
          "metadata": {},
          "execution_count": 64
        }
      ]
    },
    {
      "cell_type": "code",
      "source": [
        "model_1.to(device)\n",
        "next(model_1.parameters()).device"
      ],
      "metadata": {
        "colab": {
          "base_uri": "https://localhost:8080/"
        },
        "id": "HQPmXoUO9-aL",
        "outputId": "0f0e69d7-b4b7-4f45-a92b-c8a2ad6a8388"
      },
      "execution_count": 65,
      "outputs": [
        {
          "output_type": "execute_result",
          "data": {
            "text/plain": [
              "device(type='cuda', index=0)"
            ]
          },
          "metadata": {},
          "execution_count": 65
        }
      ]
    },
    {
      "cell_type": "markdown",
      "source": [
        "**Training and Testing The Model**"
      ],
      "metadata": {
        "id": "P6vhRGI99dCC"
      }
    },
    {
      "cell_type": "code",
      "source": [
        "loss_fn = nn.L1Loss()\n",
        "optm_fn = torch.optim.SGD(params = model_1.parameters(),\n",
        "                          lr=0.01)"
      ],
      "metadata": {
        "id": "L3nqd7yQ9cB2"
      },
      "execution_count": 66,
      "outputs": []
    },
    {
      "cell_type": "code",
      "source": [
        "torch.manual_seed(42)\n",
        "\n",
        "epochs = 400\n",
        "\n",
        "#Putting Data on target Device\n",
        "X_train = X_train.to(device)\n",
        "X_test = X_test.to(device)\n",
        "y_train = y_train.to(device)\n",
        "y_test = y_test.to(device)\n",
        "\n",
        "\n",
        "\n",
        "## Training LOOP\n",
        "for epoch in range(epochs):\n",
        "  model_1.train()\n",
        "\n",
        "  #forward pass\n",
        "  y_pred = model_1(X_train)\n",
        "\n",
        "  # loss\n",
        "  loss = loss_fn(y_pred , y_train)\n",
        "\n",
        "  #Optm zero\n",
        "  optm_fn.zero_grad()\n",
        "\n",
        "  #Backpropagation\n",
        "  loss.backward()\n",
        "\n",
        "  #optimizer step\n",
        "  optm_fn.step()\n",
        "\n",
        "## Testing LOOP\n",
        "  model_1.eval()\n",
        "\n",
        "  with torch.inference_mode():\n",
        "    test_pred = model_1(X_test)\n",
        "    test_loss = loss_fn(test_pred , y_test)\n",
        "\n",
        "  if epoch % 10 == 0:\n",
        "    print(f\"Epoch : {epoch} || loss : {loss} || Test_Loss : {test_loss}\")\n",
        "\n"
      ],
      "metadata": {
        "colab": {
          "base_uri": "https://localhost:8080/"
        },
        "id": "zPE7PVPv8akO",
        "outputId": "d709c3d3-9fb0-41bf-d3e3-9676e5718467"
      },
      "execution_count": 67,
      "outputs": [
        {
          "output_type": "stream",
          "name": "stdout",
          "text": [
            "Epoch : 0 || loss : 0.2782054543495178 || Test_Loss : 0.47440817952156067\n",
            "Epoch : 10 || loss : 0.24631808698177338 || Test_Loss : 0.3575596809387207\n",
            "Epoch : 20 || loss : 0.22965674102306366 || Test_Loss : 0.33279311656951904\n",
            "Epoch : 30 || loss : 0.21299487352371216 || Test_Loss : 0.3093109130859375\n",
            "Epoch : 40 || loss : 0.19633354246616364 || Test_Loss : 0.28454428911209106\n",
            "Epoch : 50 || loss : 0.1796722114086151 || Test_Loss : 0.2597777247428894\n",
            "Epoch : 60 || loss : 0.1630104035139084 || Test_Loss : 0.23501113057136536\n",
            "Epoch : 70 || loss : 0.1463489979505539 || Test_Loss : 0.2115289270877838\n",
            "Epoch : 80 || loss : 0.12968765199184418 || Test_Loss : 0.18676234781742096\n",
            "Epoch : 90 || loss : 0.11302593350410461 || Test_Loss : 0.16199801862239838\n",
            "Epoch : 100 || loss : 0.09636447578668594 || Test_Loss : 0.13852880895137787\n",
            "Epoch : 110 || loss : 0.07973089069128036 || Test_Loss : 0.12036441266536713\n",
            "Epoch : 120 || loss : 0.06485387682914734 || Test_Loss : 0.11252721399068832\n",
            "Epoch : 130 || loss : 0.05158053711056709 || Test_Loss : 0.09219241887331009\n",
            "Epoch : 140 || loss : 0.05851355567574501 || Test_Loss : 0.359485387802124\n",
            "Epoch : 150 || loss : 0.03307436779141426 || Test_Loss : 0.1641295999288559\n",
            "Epoch : 160 || loss : 0.03503761067986488 || Test_Loss : 0.36415788531303406\n",
            "Epoch : 170 || loss : 0.026518216356635094 || Test_Loss : 0.3683210611343384\n",
            "Epoch : 180 || loss : 0.033167026937007904 || Test_Loss : 0.3416174352169037\n",
            "Epoch : 190 || loss : 0.017237532883882523 || Test_Loss : 0.368284672498703\n",
            "Epoch : 200 || loss : 0.04774912819266319 || Test_Loss : 0.2934218645095825\n",
            "Epoch : 210 || loss : 0.03931703791022301 || Test_Loss : 0.3063996732234955\n",
            "Epoch : 220 || loss : 0.03442373126745224 || Test_Loss : 0.3133496642112732\n",
            "Epoch : 230 || loss : 0.03139933571219444 || Test_Loss : 0.31734320521354675\n",
            "Epoch : 240 || loss : 0.029493562877178192 || Test_Loss : 0.3196942210197449\n",
            "Epoch : 250 || loss : 0.02825256437063217 || Test_Loss : 0.32114294171333313\n",
            "Epoch : 260 || loss : 0.027426570653915405 || Test_Loss : 0.32206404209136963\n",
            "Epoch : 270 || loss : 0.02686774730682373 || Test_Loss : 0.32266515493392944\n",
            "Epoch : 280 || loss : 0.026477202773094177 || Test_Loss : 0.3230750858783722\n",
            "Epoch : 290 || loss : 0.02622240222990513 || Test_Loss : 0.32333579659461975\n",
            "Epoch : 300 || loss : 0.026071423664689064 || Test_Loss : 0.3234879970550537\n",
            "Epoch : 310 || loss : 0.025946401059627533 || Test_Loss : 0.3236130475997925\n",
            "Epoch : 320 || loss : 0.0258213821798563 || Test_Loss : 0.32373809814453125\n",
            "Epoch : 330 || loss : 0.025796379894018173 || Test_Loss : 0.32376304268836975\n",
            "Epoch : 340 || loss : 0.025796379894018173 || Test_Loss : 0.32376304268836975\n",
            "Epoch : 350 || loss : 0.025796379894018173 || Test_Loss : 0.32376304268836975\n",
            "Epoch : 360 || loss : 0.025796379894018173 || Test_Loss : 0.32376304268836975\n",
            "Epoch : 370 || loss : 0.025796379894018173 || Test_Loss : 0.32376304268836975\n",
            "Epoch : 380 || loss : 0.025796379894018173 || Test_Loss : 0.32376304268836975\n",
            "Epoch : 390 || loss : 0.025796379894018173 || Test_Loss : 0.32376304268836975\n"
          ]
        }
      ]
    },
    {
      "cell_type": "code",
      "source": [
        "model_1.state_dict()"
      ],
      "metadata": {
        "colab": {
          "base_uri": "https://localhost:8080/"
        },
        "id": "29mLl_I1EQAU",
        "outputId": "c9286eb6-74a4-42c3-896c-ece9e1115171"
      },
      "execution_count": 68,
      "outputs": [
        {
          "output_type": "execute_result",
          "data": {
            "text/plain": [
              "OrderedDict([('linear_layer.weight', tensor([[0.9040]], device='cuda:0')),\n",
              "             ('linear_layer.bias', tensor([0.2100], device='cuda:0'))])"
            ]
          },
          "metadata": {},
          "execution_count": 68
        }
      ]
    },
    {
      "cell_type": "code",
      "source": [
        "# X_train = X_train.numpy().to(cpu)\n",
        "# # X_test = (X_test.cpu()).numpy()\n",
        "# # y_train = (y_train.cpu()).numpy()\n",
        "# # y_test = (y_test.cpu()).numpy()\n",
        "# # y_pred = (y_pred.cpu()).numpy()"
      ],
      "metadata": {
        "id": "P87baROAFjcS"
      },
      "execution_count": 69,
      "outputs": []
    },
    {
      "cell_type": "code",
      "source": [
        "model_1.eval()\n",
        "with torch.inference_mode():\n",
        "  y_pred = model_1(X_test)\n",
        "\n",
        "y_pred[:10]"
      ],
      "metadata": {
        "colab": {
          "base_uri": "https://localhost:8080/"
        },
        "id": "fv_nTPemHOIU",
        "outputId": "b16659c3-bf12-4f68-ba0c-a2c9faf46654"
      },
      "execution_count": 70,
      "outputs": [
        {
          "output_type": "execute_result",
          "data": {
            "text/plain": [
              "tensor([[7.4416],\n",
              "        [7.4507],\n",
              "        [7.4597],\n",
              "        [7.4688],\n",
              "        [7.4778],\n",
              "        [7.4868],\n",
              "        [7.4959],\n",
              "        [7.5049],\n",
              "        [7.5140],\n",
              "        [7.5230]], device='cuda:0')"
            ]
          },
          "metadata": {},
          "execution_count": 70
        }
      ]
    },
    {
      "cell_type": "code",
      "source": [
        "plot_predictions(X_train.cpu(),X_test.cpu(),y_train.cpu(),y_test.cpu(),predictions = y_pred.cpu())"
      ],
      "metadata": {
        "colab": {
          "base_uri": "https://localhost:8080/",
          "height": 467
        },
        "id": "bn29DEnsFRmP",
        "outputId": "b92bc8e4-bff6-4b59-d8a8-697c3256cd31"
      },
      "execution_count": 71,
      "outputs": [
        {
          "output_type": "display_data",
          "data": {
            "text/plain": [
              "<Figure size 1000x700 with 1 Axes>"
            ],
            "image/png": "[encoded data removed]"
          },
          "metadata": {}
        }
      ]
    },
    {
      "cell_type": "markdown",
      "source": [
        "**Saving and Loading The Model**"
      ],
      "metadata": {
        "id": "jExU8l7XIlHn"
      }
    },
    {
      "cell_type": "code",
      "source": [
        "from pathlib import Path"
      ],
      "metadata": {
        "id": "FM3FNVFXHt9t"
      },
      "execution_count": 72,
      "outputs": []
    },
    {
      "cell_type": "code",
      "source": [
        "model_path = Path(\"models\")\n",
        "model_path.mkdir(exist_ok=True , parents=True)\n"
      ],
      "metadata": {
        "id": "-SOFKT1yEVBo"
      },
      "execution_count": 73,
      "outputs": []
    },
    {
      "cell_type": "code",
      "source": [
        "model_name = \"All_Together_model_1.pth\"\n",
        "model_save_path = model_path/model_name"
      ],
      "metadata": {
        "id": "jgPqGxi1FBmZ"
      },
      "execution_count": 74,
      "outputs": []
    },
    {
      "cell_type": "code",
      "source": [
        "model_save_path"
      ],
      "metadata": {
        "colab": {
          "base_uri": "https://localhost:8080/"
        },
        "id": "cNM9FTmtFYWk",
        "outputId": "22ba21fa-a7d4-45b3-bf7f-077d4563935b"
      },
      "execution_count": 75,
      "outputs": [
        {
          "output_type": "execute_result",
          "data": {
            "text/plain": [
              "PosixPath('models/All_Together_model_1.pth')"
            ]
          },
          "metadata": {},
          "execution_count": 75
        }
      ]
    },
    {
      "cell_type": "code",
      "source": [
        "torch.save(obj=model_1.state_dict(),\n",
        "           f=model_save_path)"
      ],
      "metadata": {
        "id": "dS6eOcbXFaBu"
      },
      "execution_count": 76,
      "outputs": []
    },
    {
      "cell_type": "code",
      "source": [
        "## Now our saved model\n",
        "\n",
        "model_12 = LinearModel2()\n",
        "model_12 ,model_12.state_dict()"
      ],
      "metadata": {
        "colab": {
          "base_uri": "https://localhost:8080/"
        },
        "id": "f777XpLHF4UX",
        "outputId": "6695555c-9d0f-42e9-ab49-308c3abc6f6f"
      },
      "execution_count": 77,
      "outputs": [
        {
          "output_type": "execute_result",
          "data": {
            "text/plain": [
              "(LinearModel2(\n",
              "   (linear_layer): Linear(in_features=1, out_features=1, bias=True)\n",
              " ),\n",
              " OrderedDict([('linear_layer.weight', tensor([[0.7645]])),\n",
              "              ('linear_layer.bias', tensor([0.8300]))]))"
            ]
          },
          "metadata": {},
          "execution_count": 77
        }
      ]
    },
    {
      "cell_type": "code",
      "source": [
        "model_12.load_state_dict(torch.load(model_save_path))"
      ],
      "metadata": {
        "colab": {
          "base_uri": "https://localhost:8080/"
        },
        "id": "RNZ5LLLKF_5-",
        "outputId": "91e7c9a2-5114-4fbd-8a3e-60d2c73c97dc"
      },
      "execution_count": 78,
      "outputs": [
        {
          "output_type": "execute_result",
          "data": {
            "text/plain": [
              "<All keys matched successfully>"
            ]
          },
          "metadata": {},
          "execution_count": 78
        }
      ]
    },
    {
      "cell_type": "code",
      "source": [
        "model_12.state_dict()"
      ],
      "metadata": {
        "colab": {
          "base_uri": "https://localhost:8080/"
        },
        "id": "lsdXTBFQG6JX",
        "outputId": "5ca80c5a-3af6-45b4-dd5c-22a052d830e1"
      },
      "execution_count": 79,
      "outputs": [
        {
          "output_type": "execute_result",
          "data": {
            "text/plain": [
              "OrderedDict([('linear_layer.weight', tensor([[0.9040]])),\n",
              "             ('linear_layer.bias', tensor([0.2100]))])"
            ]
          },
          "metadata": {},
          "execution_count": 79
        }
      ]
    },
    {
      "cell_type": "code",
      "source": [
        "model_12.eval()\n",
        "with torch.inference_mode():\n",
        "  y_pred_loaded = model_12(X_test.cpu())\n",
        "y_pred_loaded[:10]"
      ],
      "metadata": {
        "colab": {
          "base_uri": "https://localhost:8080/"
        },
        "id": "BW9SkkPhG9QX",
        "outputId": "f4dca7dd-5e1e-4c2b-ce7b-9237a754fde3"
      },
      "execution_count": 80,
      "outputs": [
        {
          "output_type": "execute_result",
          "data": {
            "text/plain": [
              "tensor([[7.4416],\n",
              "        [7.4507],\n",
              "        [7.4597],\n",
              "        [7.4688],\n",
              "        [7.4778],\n",
              "        [7.4868],\n",
              "        [7.4959],\n",
              "        [7.5049],\n",
              "        [7.5140],\n",
              "        [7.5230]])"
            ]
          },
          "metadata": {},
          "execution_count": 80
        }
      ]
    },
    {
      "cell_type": "code",
      "source": [
        "plot_predictions(X_train.cpu(),X_test.cpu(),y_train.cpu(),y_test.cpu(),predictions = y_pred_loaded.cpu())"
      ],
      "metadata": {
        "colab": {
          "base_uri": "https://localhost:8080/",
          "height": 467
        },
        "id": "BK3gujI1HOcR",
        "outputId": "a2478f23-cffd-49e1-d8a2-4d14b39300c4"
      },
      "execution_count": 81,
      "outputs": [
        {
          "output_type": "display_data",
          "data": {
            "text/plain": [
              "<Figure size 1000x700 with 1 Axes>"
            ],
            "image/png": "[encoded data removed]"
          },
          "metadata": {}
        }
      ]
    },
    {
      "cell_type": "code",
      "source": [],
      "metadata": {
        "id": "w3Rp6DOSHi16"
      },
      "execution_count": 81,
      "outputs": []
    }
  ]
}