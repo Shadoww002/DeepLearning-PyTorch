{
  "nbformat": 4,
  "nbformat_minor": 0,
  "metadata": {
    "colab": {
      "provenance": [],
      "authorship_tag": "ABX9TyNh/9N/m2ypjrlMIe/GBuK7",
      "include_colab_link": true
    },
    "kernelspec": {
      "name": "python3",
      "display_name": "Python 3"
    },
    "language_info": {
      "name": "python"
    }
  },
  "cells": [
    {
      "cell_type": "markdown",
      "metadata": {
        "id": "view-in-github",
        "colab_type": "text"
      },
      "source": [
        "<a href=\"https://colab.research.google.com/github/Shadoww002/PyTorch-Learning/blob/main/Chapter%201%20%E2%80%93%20PyTorch%20Workflow/Workflow.ipynb\" target=\"_parent\"><img src=\"https://colab.research.google.com/assets/colab-badge.svg\" alt=\"Open In Colab\"/></a>"
      ]
    },
    {
      "cell_type": "code",
      "execution_count": 101,
      "metadata": {
        "id": "9YNXuKnMdqty"
      },
      "outputs": [],
      "source": [
        "import torch\n",
        "import numpy as np\n",
        "import pandas as pd\n",
        "import matplotlib.pyplot as plt\n",
        "from torch import nn\n"
      ]
    },
    {
      "cell_type": "code",
      "source": [
        "## create known parameters\n",
        "weight = 0.6\n",
        "bias = 0.4"
      ],
      "metadata": {
        "id": "uZLPynywfAxj"
      },
      "execution_count": 102,
      "outputs": []
    },
    {
      "cell_type": "code",
      "source": [
        "## create known data\n",
        "start = 0\n",
        "end = 1\n",
        "step = 0.01\n",
        "\n",
        "X = torch.arange(start ,end, step).unsqueeze(dim=1)\n",
        "y = X * weight + bias\n",
        "\n",
        "X[:6] ,y[:6]\n"
      ],
      "metadata": {
        "colab": {
          "base_uri": "https://localhost:8080/"
        },
        "id": "hH98pUcJvtq0",
        "outputId": "8bccdf3c-cc71-4ce6-a6b4-125c964f7217"
      },
      "execution_count": 103,
      "outputs": [
        {
          "output_type": "execute_result",
          "data": {
            "text/plain": [
              "(tensor([[0.0000],\n",
              "         [0.0100],\n",
              "         [0.0200],\n",
              "         [0.0300],\n",
              "         [0.0400],\n",
              "         [0.0500]]),\n",
              " tensor([[0.4000],\n",
              "         [0.4060],\n",
              "         [0.4120],\n",
              "         [0.4180],\n",
              "         [0.4240],\n",
              "         [0.4300]]))"
            ]
          },
          "metadata": {},
          "execution_count": 103
        }
      ]
    },
    {
      "cell_type": "code",
      "source": [
        "len(X) , len(y)"
      ],
      "metadata": {
        "colab": {
          "base_uri": "https://localhost:8080/"
        },
        "id": "dK4wW7gmwW3A",
        "outputId": "6fc89dc3-e576-4da4-db78-dbb1b029753a"
      },
      "execution_count": 104,
      "outputs": [
        {
          "output_type": "execute_result",
          "data": {
            "text/plain": [
              "(100, 100)"
            ]
          },
          "metadata": {},
          "execution_count": 104
        }
      ]
    },
    {
      "cell_type": "code",
      "source": [
        "## Training and Testing split of data\n",
        "train_split = int(0.8 * len(X))\n",
        "X_train , y_train = X[:train_split] , y[:train_split]\n",
        "X_test , y_test = X[train_split:] , y[train_split:]\n",
        "\n",
        "len(X_train),len(X_test) , len(y_train) , len(y_test)"
      ],
      "metadata": {
        "colab": {
          "base_uri": "https://localhost:8080/"
        },
        "id": "Lld4mhWBw11o",
        "outputId": "c7a555a9-bd4e-4936-b7cb-79c60e922ea4"
      },
      "execution_count": 105,
      "outputs": [
        {
          "output_type": "execute_result",
          "data": {
            "text/plain": [
              "(80, 20, 80, 20)"
            ]
          },
          "metadata": {},
          "execution_count": 105
        }
      ]
    },
    {
      "cell_type": "code",
      "source": [
        "## building a plotting function\n",
        "def plot_predictions(train_data = X_train,\n",
        "                     train_labels = y_train,\n",
        "                     test_data = X_test,\n",
        "                     test_labels = y_test,\n",
        "                     predictions=None):\n",
        "\n",
        "  plt.figure(figsize=(10,7))\n",
        "\n",
        "  plt.scatter(train_data,train_labels, c=\"b\" , s=5 ,label=\"Training data\")\n",
        "\n",
        "  plt.scatter(test_data ,test_labels , c=\"g\" , s=5 , label=\"Testing Data\")\n",
        "\n",
        "  if predictions is not None:\n",
        "    plt.scatter(test_data , predictions, c=\"r\" , s=5 , label =\"Predictions\")\n",
        "\n",
        "  plt.legend()"
      ],
      "metadata": {
        "id": "vRLtIfnGymH8"
      },
      "execution_count": 106,
      "outputs": []
    },
    {
      "cell_type": "code",
      "source": [
        "plot_predictions()"
      ],
      "metadata": {
        "colab": {
          "base_uri": "https://localhost:8080/",
          "height": 460
        },
        "id": "-GQ7xbuh155g",
        "outputId": "beaa9feb-6821-4256-90cc-8269887c5998"
      },
      "execution_count": 107,
      "outputs": [
        {
          "output_type": "display_data",
          "data": {
            "text/plain": [
              "<Figure size 1000x700 with 1 Axes>"
            ],
            "image/png": "[encoded data removed]"
          },
          "metadata": {}
        }
      ]
    },
    {
      "cell_type": "code",
      "source": [
        "## Building First Model using PyTorch i.e Linear Regression\n",
        "\n",
        "from torch import nn\n",
        "class LinearRegressionModel(nn.Module):\n",
        "  def __init__(self):\n",
        "    super().__init__()\n",
        "    self.weight = nn.Parameter(torch.randn(1,\n",
        "                                           requires_grad =True,\n",
        "                                           dtype = torch.float))\n",
        "    self.bias = nn.Parameter(torch.randn(1,\n",
        "                                         requires_grad=True,\n",
        "                                         dtype = torch.float))\n",
        "\n",
        "  def forward(self , x:torch.tensor)-> torch.Tensor :\n",
        "      return self.weight * x + self.bias"
      ],
      "metadata": {
        "id": "73oYkG762Hfk"
      },
      "execution_count": 108,
      "outputs": []
    },
    {
      "cell_type": "code",
      "source": [
        "## PyTorch Model Building Essentials\n",
        "\n",
        "# torch.nn -> contains all of the building for computational graphs(a neural network can be considered a computational graph)\n",
        "# torch.nn.parameter -> what parameter should our model try and learn ,often pytorch layer from torch.nn will set these of us\n",
        "# torch.nn.Module -> The Base class for all neural network moduls\n",
        "# torch.optim -> this is where optimisers in pytorch live\n",
        "# def forward() -> all nn.Module subclass requires ypu to overwrite forward() , this method defines what happens in the forward computation"
      ],
      "metadata": {
        "id": "UBOcRhPYLTBG"
      },
      "execution_count": 109,
      "outputs": []
    },
    {
      "cell_type": "code",
      "source": [
        "torch.manual_seed(33)\n",
        "\n",
        "# creating an instance of the model\n",
        "model_0 = LinearRegressionModel()\n",
        "\n",
        "#checking parameters\n",
        "list(model_0.parameters())"
      ],
      "metadata": {
        "colab": {
          "base_uri": "https://localhost:8080/"
        },
        "id": "uAvH6z59PxJJ",
        "outputId": "bcea2177-58bd-4d18-e480-92b47dfb2b12"
      },
      "execution_count": 110,
      "outputs": [
        {
          "output_type": "execute_result",
          "data": {
            "text/plain": [
              "[Parameter containing:\n",
              " tensor([1.1982], requires_grad=True),\n",
              " Parameter containing:\n",
              " tensor([-0.3998], requires_grad=True)]"
            ]
          },
          "metadata": {},
          "execution_count": 110
        }
      ]
    },
    {
      "cell_type": "code",
      "source": [
        "model_0.state_dict()\n"
      ],
      "metadata": {
        "colab": {
          "base_uri": "https://localhost:8080/"
        },
        "id": "gYX5djDERZk_",
        "outputId": "64821b82-42b3-4e5f-a175-83f3c0027e5a"
      },
      "execution_count": 111,
      "outputs": [
        {
          "output_type": "execute_result",
          "data": {
            "text/plain": [
              "OrderedDict([('weight', tensor([1.1982])), ('bias', tensor([-0.3998]))])"
            ]
          },
          "metadata": {},
          "execution_count": 111
        }
      ]
    },
    {
      "cell_type": "code",
      "source": [
        "## Making Predictions\n",
        "# y_pred = model_0(X_test);\n",
        "# y_pred\n",
        "\n",
        "# Make predictions with model\n",
        "with torch.inference_mode():\n",
        "    y_preds = model_0(X_test)"
      ],
      "metadata": {
        "id": "4tTXu-viNIPU"
      },
      "execution_count": 112,
      "outputs": []
    },
    {
      "cell_type": "code",
      "source": [
        "y_preds"
      ],
      "metadata": {
        "colab": {
          "base_uri": "https://localhost:8080/"
        },
        "id": "1P9JK_-oPsIm",
        "outputId": "6b703663-d5cf-4679-cf15-d171134993d7"
      },
      "execution_count": 113,
      "outputs": [
        {
          "output_type": "execute_result",
          "data": {
            "text/plain": [
              "tensor([[0.5587],\n",
              "        [0.5707],\n",
              "        [0.5827],\n",
              "        [0.5947],\n",
              "        [0.6067],\n",
              "        [0.6186],\n",
              "        [0.6306],\n",
              "        [0.6426],\n",
              "        [0.6546],\n",
              "        [0.6666],\n",
              "        [0.6785],\n",
              "        [0.6905],\n",
              "        [0.7025],\n",
              "        [0.7145],\n",
              "        [0.7265],\n",
              "        [0.7385],\n",
              "        [0.7504],\n",
              "        [0.7624],\n",
              "        [0.7744],\n",
              "        [0.7864]])"
            ]
          },
          "metadata": {},
          "execution_count": 113
        }
      ]
    },
    {
      "cell_type": "code",
      "source": [
        "# y_pred.detach().numpy()\n",
        "plot_predictions(predictions = y_preds)"
      ],
      "metadata": {
        "colab": {
          "base_uri": "https://localhost:8080/",
          "height": 460
        },
        "id": "ps_25XDCTdhP",
        "outputId": "3c841e68-9600-4ba2-90cd-e747211cdfc6"
      },
      "execution_count": 114,
      "outputs": [
        {
          "output_type": "display_data",
          "data": {
            "text/plain": [
              "<Figure size 1000x700 with 1 Axes>"
            ],
            "image/png": "[encoded data removed]"
          },
          "metadata": {}
        }
      ]
    },
    {
      "cell_type": "code",
      "source": [
        "list(model_0.parameters())"
      ],
      "metadata": {
        "colab": {
          "base_uri": "https://localhost:8080/"
        },
        "id": "ZMtTKS7FOJAI",
        "outputId": "94a2cf93-42bd-49ae-c578-a31165f0affa"
      },
      "execution_count": 115,
      "outputs": [
        {
          "output_type": "execute_result",
          "data": {
            "text/plain": [
              "[Parameter containing:\n",
              " tensor([1.1982], requires_grad=True),\n",
              " Parameter containing:\n",
              " tensor([-0.3998], requires_grad=True)]"
            ]
          },
          "metadata": {},
          "execution_count": 115
        }
      ]
    },
    {
      "cell_type": "code",
      "source": [
        "model_0.state_dict()"
      ],
      "metadata": {
        "colab": {
          "base_uri": "https://localhost:8080/"
        },
        "id": "GdwiXdswWVIW",
        "outputId": "38ec3518-c89d-473a-84e5-f1bd3f0f271e"
      },
      "execution_count": 116,
      "outputs": [
        {
          "output_type": "execute_result",
          "data": {
            "text/plain": [
              "OrderedDict([('weight', tensor([1.1982])), ('bias', tensor([-0.3998]))])"
            ]
          },
          "metadata": {},
          "execution_count": 116
        }
      ]
    },
    {
      "cell_type": "code",
      "source": [
        "## Setting The Loss Functions\n",
        "loss_fn = nn.L1Loss()\n",
        "\n",
        "\n",
        "## Setting the Optimisers\n",
        "optimiser = torch.optim.SGD(params=model_0.parameters(),\n",
        "                            lr = 0.01)"
      ],
      "metadata": {
        "id": "j-laYkFOWkDV"
      },
      "execution_count": 117,
      "outputs": []
    },
    {
      "cell_type": "code",
      "source": [
        "## Training LOOP\n",
        "epochs = 400\n",
        "\n",
        "for epoch in range(epochs):\n",
        "  # ste model to training mode\n",
        "  model_0.train()\n",
        "\n",
        "  #forward pass\n",
        "  y_pred = model_0(X_train)\n",
        "\n",
        "  #calculate the Loss\n",
        "  loss = loss_fn(y_pred , y_train)\n",
        "\n",
        "  # optimiser zero grad\n",
        "  optimiser.zero_grad()\n",
        "\n",
        "  #perform the backpropogation in the loss wrt parameter of the model\n",
        "  loss.backward()\n",
        "\n",
        "  #step the optimiser(perform gradient descent)\n",
        "  optimiser.step()\n",
        "\n",
        "\n",
        "  ## Testing Loop\n",
        "  model_0.eval()\n",
        "\n",
        "  with torch.inference_mode():\n",
        "    # do the forward pass for testing data\n",
        "    test_pred = model_0(X_test)\n",
        "    #calculate the loss\n",
        "    test_loss = loss_fn(test_pred , y_test)\n",
        "\n",
        "  if(epoch % 20 == 0):\n",
        "    print(f\"epoch : {epoch} | loss : {loss} | Test_Loss : {test_loss}\")\n",
        "\n",
        "\n",
        "\n",
        "  # print(loss)\n",
        "  # print(model_0.state_dict())"
      ],
      "metadata": {
        "colab": {
          "base_uri": "https://localhost:8080/"
        },
        "id": "F3-MdPxPXOdu",
        "outputId": "a37715cf-b8b5-4208-d98a-3c3b6db67534"
      },
      "execution_count": 133,
      "outputs": [
        {
          "output_type": "stream",
          "name": "stdout",
          "text": [
            "epoch : 0 | loss : 0.005154062993824482 | Test_Loss : 0.004609152674674988\n",
            "epoch : 20 | loss : 0.005154062993824482 | Test_Loss : 0.004609152674674988\n",
            "epoch : 40 | loss : 0.005154062993824482 | Test_Loss : 0.004609152674674988\n",
            "epoch : 60 | loss : 0.005154062993824482 | Test_Loss : 0.004609152674674988\n",
            "epoch : 80 | loss : 0.005154062993824482 | Test_Loss : 0.004609152674674988\n",
            "epoch : 100 | loss : 0.005154062993824482 | Test_Loss : 0.004609152674674988\n",
            "epoch : 120 | loss : 0.005154062993824482 | Test_Loss : 0.004609152674674988\n",
            "epoch : 140 | loss : 0.005154062993824482 | Test_Loss : 0.004609152674674988\n",
            "epoch : 160 | loss : 0.005154062993824482 | Test_Loss : 0.004609152674674988\n",
            "epoch : 180 | loss : 0.005154062993824482 | Test_Loss : 0.004609152674674988\n",
            "epoch : 200 | loss : 0.005154062993824482 | Test_Loss : 0.004609152674674988\n",
            "epoch : 220 | loss : 0.005154062993824482 | Test_Loss : 0.004609152674674988\n",
            "epoch : 240 | loss : 0.005154062993824482 | Test_Loss : 0.004609152674674988\n",
            "epoch : 260 | loss : 0.005154062993824482 | Test_Loss : 0.004609152674674988\n",
            "epoch : 280 | loss : 0.005154062993824482 | Test_Loss : 0.004609152674674988\n",
            "epoch : 300 | loss : 0.005154062993824482 | Test_Loss : 0.004609152674674988\n",
            "epoch : 320 | loss : 0.005154062993824482 | Test_Loss : 0.004609152674674988\n",
            "epoch : 340 | loss : 0.005154062993824482 | Test_Loss : 0.004609152674674988\n",
            "epoch : 360 | loss : 0.005154062993824482 | Test_Loss : 0.004609152674674988\n",
            "epoch : 380 | loss : 0.005154062993824482 | Test_Loss : 0.004609152674674988\n"
          ]
        }
      ]
    },
    {
      "cell_type": "code",
      "source": [
        " with torch.inference_mode():\n",
        "  y_preds_new = model_0(X_test)"
      ],
      "metadata": {
        "id": "EaNUCTybQNsc"
      },
      "execution_count": 128,
      "outputs": []
    },
    {
      "cell_type": "code",
      "source": [
        "model_0.state_dict()#initial random paramerter wihtod  training loop"
      ],
      "metadata": {
        "colab": {
          "base_uri": "https://localhost:8080/"
        },
        "id": "nZAglSl1LEWk",
        "outputId": "9000d536-1bb2-4f40-ac15-9c1c6da95bee"
      },
      "execution_count": 120,
      "outputs": [
        {
          "output_type": "execute_result",
          "data": {
            "text/plain": [
              "OrderedDict([('weight', tensor([0.7654])), ('bias', tensor([0.3304]))])"
            ]
          },
          "metadata": {},
          "execution_count": 120
        }
      ]
    },
    {
      "cell_type": "code",
      "source": [
        "model_0.state_dict()"
      ],
      "metadata": {
        "colab": {
          "base_uri": "https://localhost:8080/"
        },
        "id": "RjEDthlvV_xu",
        "outputId": "72e5dc16-b9b4-40ba-9e62-0d7b833d7f8b"
      },
      "execution_count": 129,
      "outputs": [
        {
          "output_type": "execute_result",
          "data": {
            "text/plain": [
              "OrderedDict([('weight', tensor([0.6075])), ('bias', tensor([0.4022]))])"
            ]
          },
          "metadata": {},
          "execution_count": 129
        }
      ]
    },
    {
      "cell_type": "code",
      "source": [
        "weight ,bias # original params"
      ],
      "metadata": {
        "colab": {
          "base_uri": "https://localhost:8080/"
        },
        "id": "wvB_Zt0FOoYV",
        "outputId": "cfa6d03c-d977-4f0d-e692-8d760aacfb56"
      },
      "execution_count": 121,
      "outputs": [
        {
          "output_type": "execute_result",
          "data": {
            "text/plain": [
              "(0.6, 0.4)"
            ]
          },
          "metadata": {},
          "execution_count": 121
        }
      ]
    },
    {
      "cell_type": "code",
      "source": [
        "plot_predictions(predictions=y_preds)"
      ],
      "metadata": {
        "colab": {
          "base_uri": "https://localhost:8080/",
          "height": 460
        },
        "id": "0DE_cfULOrpd",
        "outputId": "32dffa2f-851e-4b6d-e45b-8b9d32c7e4f7"
      },
      "execution_count": 130,
      "outputs": [
        {
          "output_type": "display_data",
          "data": {
            "text/plain": [
              "<Figure size 1000x700 with 1 Axes>"
            ],
            "image/png": "[encoded data removed]"
          },
          "metadata": {}
        }
      ]
    },
    {
      "cell_type": "code",
      "source": [
        "plot_predictions(predictions=y_preds_new)"
      ],
      "metadata": {
        "colab": {
          "base_uri": "https://localhost:8080/",
          "height": 460
        },
        "id": "PgyJvIFuQj6E",
        "outputId": "dba367be-2f24-4a8b-9722-5d6a5ad3ee1a"
      },
      "execution_count": 131,
      "outputs": [
        {
          "output_type": "display_data",
          "data": {
            "text/plain": [
              "<Figure size 1000x700 with 1 Axes>"
            ],
            "image/png": "[encoded data removed]"
          },
          "metadata": {}
        }
      ]
    },
    {
      "cell_type": "code",
      "source": [],
      "metadata": {
        "id": "ZknR5jIZQor_"
      },
      "execution_count": 123,
      "outputs": []
    }
  ]
}