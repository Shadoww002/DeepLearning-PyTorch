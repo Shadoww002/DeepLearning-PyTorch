{
  "nbformat": 4,
  "nbformat_minor": 0,
  "metadata": {
    "colab": {
      "provenance": [],
      "authorship_tag": "ABX9TyP0Kx3HSpSjIElua+K59VVc",
      "include_colab_link": true
    },
    "kernelspec": {
      "name": "python3",
      "display_name": "Python 3"
    },
    "language_info": {
      "name": "python"
    }
  },
  "cells": [
    {
      "cell_type": "markdown",
      "metadata": {
        "id": "view-in-github",
        "colab_type": "text"
      },
      "source": [
        "<a href=\"https://colab.research.google.com/github/Shadoww002/PyTorch-Learning/blob/main/Chapter%201%20%E2%80%93%20PyTorch%20Workflow/Workflow.ipynb\" target=\"_parent\"><img src=\"https://colab.research.google.com/assets/colab-badge.svg\" alt=\"Open In Colab\"/></a>"
      ]
    },
    {
      "cell_type": "code",
      "execution_count": 40,
      "metadata": {
        "id": "9YNXuKnMdqty"
      },
      "outputs": [],
      "source": [
        "import torch\n",
        "import numpy as np\n",
        "import pandas as pd\n",
        "import matplotlib.pyplot as plt\n",
        "from torch import nn\n"
      ]
    },
    {
      "cell_type": "code",
      "source": [
        "## create known parameters\n",
        "weight = 0.6\n",
        "bias = 0.4"
      ],
      "metadata": {
        "id": "uZLPynywfAxj"
      },
      "execution_count": 41,
      "outputs": []
    },
    {
      "cell_type": "code",
      "source": [
        "## create known data\n",
        "start = 0\n",
        "end = 1\n",
        "step = 0.01\n",
        "\n",
        "X = torch.arange(start ,end, step).unsqueeze(dim=1)\n",
        "y = X * weight + bias\n",
        "\n",
        "X[:6] ,y[:6]\n"
      ],
      "metadata": {
        "colab": {
          "base_uri": "https://localhost:8080/"
        },
        "id": "hH98pUcJvtq0",
        "outputId": "9e33cdb1-37cc-4d21-93e5-9613a1df98e1"
      },
      "execution_count": 42,
      "outputs": [
        {
          "output_type": "execute_result",
          "data": {
            "text/plain": [
              "(tensor([[0.0000],\n",
              "         [0.0100],\n",
              "         [0.0200],\n",
              "         [0.0300],\n",
              "         [0.0400],\n",
              "         [0.0500]]),\n",
              " tensor([[0.4000],\n",
              "         [0.4060],\n",
              "         [0.4120],\n",
              "         [0.4180],\n",
              "         [0.4240],\n",
              "         [0.4300]]))"
            ]
          },
          "metadata": {},
          "execution_count": 42
        }
      ]
    },
    {
      "cell_type": "code",
      "source": [
        "len(X) , len(y)"
      ],
      "metadata": {
        "colab": {
          "base_uri": "https://localhost:8080/"
        },
        "id": "dK4wW7gmwW3A",
        "outputId": "a8b490b4-5550-49dc-8f62-e605e30e562f"
      },
      "execution_count": 43,
      "outputs": [
        {
          "output_type": "execute_result",
          "data": {
            "text/plain": [
              "(100, 100)"
            ]
          },
          "metadata": {},
          "execution_count": 43
        }
      ]
    },
    {
      "cell_type": "code",
      "source": [
        "## Training and Testing split of data\n",
        "train_split = int(0.8 * len(X))\n",
        "X_train , y_train = X[:train_split] , y[:train_split]\n",
        "X_test , y_test = X[train_split:] , y[train_split:]\n",
        "\n",
        "len(X_train),len(X_test) , len(y_train) , len(y_test)"
      ],
      "metadata": {
        "colab": {
          "base_uri": "https://localhost:8080/"
        },
        "id": "Lld4mhWBw11o",
        "outputId": "98fb837f-cd98-410a-d493-2a0fbb9ed740"
      },
      "execution_count": 44,
      "outputs": [
        {
          "output_type": "execute_result",
          "data": {
            "text/plain": [
              "(80, 20, 80, 20)"
            ]
          },
          "metadata": {},
          "execution_count": 44
        }
      ]
    },
    {
      "cell_type": "code",
      "source": [
        "## building a plotting function\n",
        "def plot_predictions(train_data = X_train,\n",
        "                     train_labels = y_train,\n",
        "                     test_data = X_test,\n",
        "                     test_labels = y_test,\n",
        "                     predictions=None):\n",
        "\n",
        "  plt.figure(figsize=(10,7))\n",
        "\n",
        "  plt.scatter(train_data,train_labels, c=\"b\" , s=5 ,label=\"Training data\")\n",
        "\n",
        "  plt.scatter(test_data ,test_labels , c=\"g\" , s=5 , label=\"Testing Data\")\n",
        "\n",
        "  if predictions is not None:\n",
        "    plt.scatter(test_data , predictions, c=\"r\" , s=5 , label =\"Predictions\")\n",
        "\n",
        "  plt.legend()"
      ],
      "metadata": {
        "id": "vRLtIfnGymH8"
      },
      "execution_count": 45,
      "outputs": []
    },
    {
      "cell_type": "code",
      "source": [
        "plot_predictions()"
      ],
      "metadata": {
        "colab": {
          "base_uri": "https://localhost:8080/",
          "height": 460
        },
        "id": "-GQ7xbuh155g",
        "outputId": "321d9e83-3ee0-4916-9dfa-cdd41bfc613d"
      },
      "execution_count": 46,
      "outputs": [
        {
          "output_type": "display_data",
          "data": {
            "text/plain": [
              "<Figure size 1000x700 with 1 Axes>"
            ],
            "image/png": "[encoded data removed]"
          },
          "metadata": {}
        }
      ]
    },
    {
      "cell_type": "code",
      "source": [
        "## Building First Model using PyTorch i.e Linear Regression\n",
        "\n",
        "from torch import nn\n",
        "class LinearRegressionModel(nn.Module):\n",
        "  def __init__(self):\n",
        "    super().__init__()\n",
        "    self.weight = nn.Parameter(torch.randn(1,\n",
        "                                           requires_grad =True,\n",
        "                                           dtype = torch.float))\n",
        "    self.bias = nn.Parameter(torch.randn(1,\n",
        "                                         requires_grad=True,\n",
        "                                         dtype = torch.float))\n",
        "\n",
        "  def forward(self , x:torch.tensor)-> torch.Tensor :\n",
        "      return self.weight * x + self.bias"
      ],
      "metadata": {
        "id": "73oYkG762Hfk"
      },
      "execution_count": 47,
      "outputs": []
    },
    {
      "cell_type": "code",
      "source": [
        "## PyTorch Model Building Essentials\n",
        "\n",
        "# torch.nn -> contains all of the building for computational graphs(a neural network can be considered a computational graph)\n",
        "# torch.nn.parameter -> what parameter should our model try and learn ,often pytorch layer from torch.nn will set these of us\n",
        "# torch.nn.Module -> The Base class for all neural network moduls\n",
        "# torch.optim -> this is where optimisers in pytorch live\n",
        "# def forward() -> all nn.Module subclass requires ypu to overwrite forward() , this method defines what happens in the forward computation"
      ],
      "metadata": {
        "id": "UBOcRhPYLTBG"
      },
      "execution_count": 48,
      "outputs": []
    },
    {
      "cell_type": "code",
      "source": [
        "torch.manual_seed(33)\n",
        "\n",
        "# creating an instance of the model\n",
        "model_0 = LinearRegressionModel()\n",
        "\n",
        "#checking parameters\n",
        "list(model_0.parameters())"
      ],
      "metadata": {
        "colab": {
          "base_uri": "https://localhost:8080/"
        },
        "id": "uAvH6z59PxJJ",
        "outputId": "ac0b4a18-3486-4914-e8ac-6be4d91a2395"
      },
      "execution_count": 49,
      "outputs": [
        {
          "output_type": "execute_result",
          "data": {
            "text/plain": [
              "[Parameter containing:\n",
              " tensor([1.1982], requires_grad=True),\n",
              " Parameter containing:\n",
              " tensor([-0.3998], requires_grad=True)]"
            ]
          },
          "metadata": {},
          "execution_count": 49
        }
      ]
    },
    {
      "cell_type": "code",
      "source": [
        "model_0.state_dict()\n"
      ],
      "metadata": {
        "colab": {
          "base_uri": "https://localhost:8080/"
        },
        "id": "gYX5djDERZk_",
        "outputId": "3e26d6fc-eba0-4f3c-b78b-e671ada59750"
      },
      "execution_count": 50,
      "outputs": [
        {
          "output_type": "execute_result",
          "data": {
            "text/plain": [
              "OrderedDict([('weight', tensor([1.1982])), ('bias', tensor([-0.3998]))])"
            ]
          },
          "metadata": {},
          "execution_count": 50
        }
      ]
    },
    {
      "cell_type": "code",
      "source": [],
      "metadata": {
        "id": "ps_25XDCTdhP"
      },
      "execution_count": 50,
      "outputs": []
    }
  ]
}