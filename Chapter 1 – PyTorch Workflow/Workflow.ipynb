{
  "nbformat": 4,
  "nbformat_minor": 0,
  "metadata": {
    "colab": {
      "provenance": [],
      "authorship_tag": "ABX9TyNE2BsnWDgOah3hZqwVIkLq",
      "include_colab_link": true
    },
    "kernelspec": {
      "name": "python3",
      "display_name": "Python 3"
    },
    "language_info": {
      "name": "python"
    }
  },
  "cells": [
    {
      "cell_type": "markdown",
      "metadata": {
        "id": "view-in-github",
        "colab_type": "text"
      },
      "source": [
        "<a href=\"https://colab.research.google.com/github/Shadoww002/PyTorch-Learning/blob/main/Chapter%201%20%E2%80%93%20PyTorch%20Workflow/Workflow.ipynb\" target=\"_parent\"><img src=\"https://colab.research.google.com/assets/colab-badge.svg\" alt=\"Open In Colab\"/></a>"
      ]
    },
    {
      "cell_type": "code",
      "execution_count": 40,
      "metadata": {
        "id": "9YNXuKnMdqty"
      },
      "outputs": [],
      "source": [
        "import torch\n",
        "import numpy as np\n",
        "import pandas as pd\n",
        "import matplotlib.pyplot as plt\n",
        "from torch import nn\n"
      ]
    },
    {
      "cell_type": "code",
      "source": [
        "## create known parameters\n",
        "weight = 0.75\n",
        "bias = 0.25"
      ],
      "metadata": {
        "id": "uZLPynywfAxj"
      },
      "execution_count": 41,
      "outputs": []
    },
    {
      "cell_type": "code",
      "source": [
        "## create known data\n",
        "start = 0\n",
        "end = 1\n",
        "step = 0.01\n",
        "\n",
        "X = torch.arange(start ,end, step).unsqueeze(dim=1)\n",
        "y = X * weight + bias\n",
        "\n",
        "X[:6] ,y[:6]\n"
      ],
      "metadata": {
        "colab": {
          "base_uri": "https://localhost:8080/"
        },
        "id": "hH98pUcJvtq0",
        "outputId": "05893a96-c2d9-40f9-c50c-3a9b5aca15b9"
      },
      "execution_count": 42,
      "outputs": [
        {
          "output_type": "execute_result",
          "data": {
            "text/plain": [
              "(tensor([[0.0000],\n",
              "         [0.0100],\n",
              "         [0.0200],\n",
              "         [0.0300],\n",
              "         [0.0400],\n",
              "         [0.0500]]),\n",
              " tensor([[0.2500],\n",
              "         [0.2575],\n",
              "         [0.2650],\n",
              "         [0.2725],\n",
              "         [0.2800],\n",
              "         [0.2875]]))"
            ]
          },
          "metadata": {},
          "execution_count": 42
        }
      ]
    },
    {
      "cell_type": "code",
      "source": [
        "len(X) , len(y)"
      ],
      "metadata": {
        "colab": {
          "base_uri": "https://localhost:8080/"
        },
        "id": "dK4wW7gmwW3A",
        "outputId": "35495fa9-001c-477d-e84a-2ef4c850db72"
      },
      "execution_count": 43,
      "outputs": [
        {
          "output_type": "execute_result",
          "data": {
            "text/plain": [
              "(100, 100)"
            ]
          },
          "metadata": {},
          "execution_count": 43
        }
      ]
    },
    {
      "cell_type": "code",
      "source": [
        "## Training and Testing split of data\n",
        "train_split = int(0.8 * len(X))\n",
        "X_train , y_train = X[:train_split] , y[:train_split]\n",
        "X_test , y_test = X[train_split:] , y[train_split:]\n",
        "\n",
        "len(X_train),len(X_test) , len(y_train) , len(y_test)"
      ],
      "metadata": {
        "colab": {
          "base_uri": "https://localhost:8080/"
        },
        "id": "Lld4mhWBw11o",
        "outputId": "3d34845a-b988-4463-9622-019b2f6e3836"
      },
      "execution_count": 44,
      "outputs": [
        {
          "output_type": "execute_result",
          "data": {
            "text/plain": [
              "(80, 20, 80, 20)"
            ]
          },
          "metadata": {},
          "execution_count": 44
        }
      ]
    },
    {
      "cell_type": "code",
      "source": [
        "## building a plotting function\n",
        "def plot_predictions(train_data = X_train,\n",
        "                     train_labels = y_train,\n",
        "                     test_data = X_test,\n",
        "                     test_labels = y_test,\n",
        "                     predictions=None):\n",
        "\n",
        "  plt.figure(figsize=(10,7))\n",
        "\n",
        "  plt.scatter(train_data,train_labels, c=\"b\" , s=5 ,label=\"Training data\")\n",
        "\n",
        "  plt.scatter(test_data ,test_labels , c=\"g\" , s=5 , label=\"Testing Data\")\n",
        "\n",
        "  if predictions is not None:\n",
        "    plt.scatter(test_data , predictions, c=\"r\" , s=5 , label =\"Predictions\")\n",
        "\n",
        "  plt.legend()"
      ],
      "metadata": {
        "id": "vRLtIfnGymH8"
      },
      "execution_count": 45,
      "outputs": []
    },
    {
      "cell_type": "code",
      "source": [
        "plot_predictions()"
      ],
      "metadata": {
        "colab": {
          "base_uri": "https://localhost:8080/",
          "height": 460
        },
        "id": "-GQ7xbuh155g",
        "outputId": "8424e162-f95d-4bb9-8114-c70110aceea4"
      },
      "execution_count": 46,
      "outputs": [
        {
          "output_type": "display_data",
          "data": {
            "text/plain": [
              "<Figure size 1000x700 with 1 Axes>"
            ],
            "image/png": "[encoded data removed]"
          },
          "metadata": {}
        }
      ]
    },
    {
      "cell_type": "code",
      "source": [
        "## Building First Model using PyTorch i.e Linear Regression\n",
        "\n",
        "from torch import nn\n",
        "class LinearRegressionModel(nn.Module):\n",
        "  def __init__(self):\n",
        "    super().__init__()\n",
        "    self.weight = nn.Parameter(torch.randn(1,\n",
        "                                           requires_grad =True,\n",
        "                                           dtype = torch.float))\n",
        "    self.bias = nn.Parameter(torch.randn(1,\n",
        "                                         requires_grad=True,\n",
        "                                         dtype = torch.float))\n",
        "\n",
        "  def forward(self , x:torch.tensor)-> torch.Tensor :\n",
        "      return self.weight * x + self.bias"
      ],
      "metadata": {
        "id": "73oYkG762Hfk"
      },
      "execution_count": 47,
      "outputs": []
    },
    {
      "cell_type": "code",
      "source": [
        "## PyTorch Model Building Essentials\n",
        "\n",
        "# torch.nn -> contains all of the building for computational graphs(a neural network can be considered a computational graph)\n",
        "# torch.nn.parameter -> what parameter should our model try and learn ,often pytorch layer from torch.nn will set these of us\n",
        "# torch.nn.Module -> The Base class for all neural network moduls\n",
        "# torch.optim -> this is where optimisers in pytorch live\n",
        "# def forward() -> all nn.Module subclass requires ypu to overwrite forward() , this method defines what happens in the forward computation"
      ],
      "metadata": {
        "id": "UBOcRhPYLTBG"
      },
      "execution_count": 48,
      "outputs": []
    },
    {
      "cell_type": "code",
      "source": [
        "torch.manual_seed(33)\n",
        "\n",
        "# creating an instance of the model\n",
        "model_0 = LinearRegressionModel()\n",
        "\n",
        "#checking parameters\n",
        "list(model_0.parameters())"
      ],
      "metadata": {
        "colab": {
          "base_uri": "https://localhost:8080/"
        },
        "id": "uAvH6z59PxJJ",
        "outputId": "dc8bf89a-0a5a-4f6d-fe10-d1a8a1871aaf"
      },
      "execution_count": 49,
      "outputs": [
        {
          "output_type": "execute_result",
          "data": {
            "text/plain": [
              "[Parameter containing:\n",
              " tensor([1.1982], requires_grad=True),\n",
              " Parameter containing:\n",
              " tensor([-0.3998], requires_grad=True)]"
            ]
          },
          "metadata": {},
          "execution_count": 49
        }
      ]
    },
    {
      "cell_type": "code",
      "source": [
        "model_0.state_dict()\n"
      ],
      "metadata": {
        "colab": {
          "base_uri": "https://localhost:8080/"
        },
        "id": "gYX5djDERZk_",
        "outputId": "18d856ca-2966-4190-c9ce-576aca58a237"
      },
      "execution_count": 50,
      "outputs": [
        {
          "output_type": "execute_result",
          "data": {
            "text/plain": [
              "OrderedDict([('weight', tensor([1.1982])), ('bias', tensor([-0.3998]))])"
            ]
          },
          "metadata": {},
          "execution_count": 50
        }
      ]
    },
    {
      "cell_type": "code",
      "source": [
        "## Making Predictions\n",
        "# y_pred = model_0(X_test);\n",
        "# y_pred\n",
        "\n",
        "# Make predictions with model\n",
        "with torch.inference_mode():\n",
        "    y_preds = model_0(X_test)"
      ],
      "metadata": {
        "id": "4tTXu-viNIPU"
      },
      "execution_count": 51,
      "outputs": []
    },
    {
      "cell_type": "code",
      "source": [
        "y_preds"
      ],
      "metadata": {
        "colab": {
          "base_uri": "https://localhost:8080/"
        },
        "id": "1P9JK_-oPsIm",
        "outputId": "46670a2e-3fbc-412e-b7a9-9801c8d33623"
      },
      "execution_count": 52,
      "outputs": [
        {
          "output_type": "execute_result",
          "data": {
            "text/plain": [
              "tensor([[0.5587],\n",
              "        [0.5707],\n",
              "        [0.5827],\n",
              "        [0.5947],\n",
              "        [0.6067],\n",
              "        [0.6186],\n",
              "        [0.6306],\n",
              "        [0.6426],\n",
              "        [0.6546],\n",
              "        [0.6666],\n",
              "        [0.6785],\n",
              "        [0.6905],\n",
              "        [0.7025],\n",
              "        [0.7145],\n",
              "        [0.7265],\n",
              "        [0.7385],\n",
              "        [0.7504],\n",
              "        [0.7624],\n",
              "        [0.7744],\n",
              "        [0.7864]])"
            ]
          },
          "metadata": {},
          "execution_count": 52
        }
      ]
    },
    {
      "cell_type": "code",
      "source": [
        "# y_pred.detach().numpy()\n",
        "plot_predictions(predictions = y_preds)"
      ],
      "metadata": {
        "colab": {
          "base_uri": "https://localhost:8080/",
          "height": 460
        },
        "id": "ps_25XDCTdhP",
        "outputId": "5a29bd18-c851-425c-9257-58fdc87f3a7e"
      },
      "execution_count": 53,
      "outputs": [
        {
          "output_type": "display_data",
          "data": {
            "text/plain": [
              "<Figure size 1000x700 with 1 Axes>"
            ],
            "image/png": "[encoded data removed]"
          },
          "metadata": {}
        }
      ]
    },
    {
      "cell_type": "code",
      "source": [
        "list(model_0.parameters())"
      ],
      "metadata": {
        "colab": {
          "base_uri": "https://localhost:8080/"
        },
        "id": "ZMtTKS7FOJAI",
        "outputId": "4677308e-07da-4992-ae24-0a486983c34c"
      },
      "execution_count": 54,
      "outputs": [
        {
          "output_type": "execute_result",
          "data": {
            "text/plain": [
              "[Parameter containing:\n",
              " tensor([1.1982], requires_grad=True),\n",
              " Parameter containing:\n",
              " tensor([-0.3998], requires_grad=True)]"
            ]
          },
          "metadata": {},
          "execution_count": 54
        }
      ]
    },
    {
      "cell_type": "code",
      "source": [
        "model_0.state_dict()"
      ],
      "metadata": {
        "colab": {
          "base_uri": "https://localhost:8080/"
        },
        "id": "GdwiXdswWVIW",
        "outputId": "0a3b7c7e-2613-41cb-d35e-2c8b495bd4bd"
      },
      "execution_count": 55,
      "outputs": [
        {
          "output_type": "execute_result",
          "data": {
            "text/plain": [
              "OrderedDict([('weight', tensor([1.1982])), ('bias', tensor([-0.3998]))])"
            ]
          },
          "metadata": {},
          "execution_count": 55
        }
      ]
    },
    {
      "cell_type": "code",
      "source": [
        "## Setting The Loss Functions\n",
        "loss_fn = nn.L1Loss()\n",
        "\n",
        "\n",
        "## Setting the Optimisers\n",
        "optimiser = torch.optim.SGD(params=model_0.parameters(),\n",
        "                            lr = 0.01)"
      ],
      "metadata": {
        "id": "j-laYkFOWkDV"
      },
      "execution_count": 56,
      "outputs": []
    },
    {
      "cell_type": "code",
      "source": [
        "torch.manual_seed(42)\n",
        "## Training LOOP\n",
        "epoch_count = []\n",
        "train_loss_count = []\n",
        "test_loss_count = []\n",
        "\n",
        "epochs = 400\n",
        "for epoch in range(epochs):\n",
        "  # ste model to training mode\n",
        "  model_0.train()\n",
        "\n",
        "  #forward pass\n",
        "  y_pred = model_0(X_train)\n",
        "\n",
        "  #calculate the Loss\n",
        "  loss = loss_fn(y_pred , y_train)\n",
        "\n",
        "  # optimiser zero grad\n",
        "  optimiser.zero_grad()\n",
        "\n",
        "  #perform the backpropogation in the loss wrt parameter of the model\n",
        "  loss.backward()\n",
        "\n",
        "  #step the optimiser(perform gradient descent)\n",
        "  optimiser.step()\n",
        "\n",
        "\n",
        "  ## Testing Loop\n",
        "  model_0.eval()\n",
        "\n",
        "  with torch.inference_mode():\n",
        "    # do the forward pass for testing data\n",
        "    test_pred = model_0(X_test)\n",
        "    #calculate the loss\n",
        "    test_loss = loss_fn(test_pred , y_test)\n",
        "\n",
        "  if(epoch % 10 == 0):\n",
        "    print(f\"epoch : {epoch} | loss : {loss} | Test_Loss : {test_loss}\")\n",
        "    epoch_count.append(epoch)\n",
        "    train_loss_count.append(loss)\n",
        "    test_loss_count.append(test_loss)\n",
        "\n",
        "\n",
        "  # print(loss)\n",
        "  # print(model_0.state_dict())"
      ],
      "metadata": {
        "colab": {
          "base_uri": "https://localhost:8080/"
        },
        "id": "F3-MdPxPXOdu",
        "outputId": "1f047aaf-3871-4228-94d7-347f942457bb"
      },
      "execution_count": 57,
      "outputs": [
        {
          "output_type": "stream",
          "name": "stdout",
          "text": [
            "epoch : 0 | loss : 0.47279223799705505 | Test_Loss : 0.23516178131103516\n",
            "epoch : 10 | loss : 0.3571898341178894 | Test_Loss : 0.09980936348438263\n",
            "epoch : 20 | loss : 0.24158735573291779 | Test_Loss : 0.03842427209019661\n",
            "epoch : 30 | loss : 0.15754380822181702 | Test_Loss : 0.14258940517902374\n",
            "epoch : 40 | loss : 0.13025596737861633 | Test_Loss : 0.1957685649394989\n",
            "epoch : 50 | loss : 0.11914428323507309 | Test_Loss : 0.2223103791475296\n",
            "epoch : 60 | loss : 0.11316206306219101 | Test_Loss : 0.2343481034040451\n",
            "epoch : 70 | loss : 0.10886026918888092 | Test_Loss : 0.23786218464374542\n",
            "epoch : 80 | loss : 0.10514986515045166 | Test_Loss : 0.23646409809589386\n",
            "epoch : 90 | loss : 0.10163762420415878 | Test_Loss : 0.23227830231189728\n",
            "epoch : 100 | loss : 0.09817015379667282 | Test_Loss : 0.22601506114006042\n",
            "epoch : 110 | loss : 0.0947430357336998 | Test_Loss : 0.21836693584918976\n",
            "epoch : 120 | loss : 0.09131591022014618 | Test_Loss : 0.21071882545948029\n",
            "epoch : 130 | loss : 0.08788881450891495 | Test_Loss : 0.20307056605815887\n",
            "epoch : 140 | loss : 0.08446168899536133 | Test_Loss : 0.1954224407672882\n",
            "epoch : 150 | loss : 0.0810345858335495 | Test_Loss : 0.18777421116828918\n",
            "epoch : 160 | loss : 0.07760747522115707 | Test_Loss : 0.18012599647045135\n",
            "epoch : 170 | loss : 0.07418037950992584 | Test_Loss : 0.1724778562784195\n",
            "epoch : 180 | loss : 0.07075324654579163 | Test_Loss : 0.16482961177825928\n",
            "epoch : 190 | loss : 0.0673261433839798 | Test_Loss : 0.15718141198158264\n",
            "epoch : 200 | loss : 0.06389902532100677 | Test_Loss : 0.1495332270860672\n",
            "epoch : 210 | loss : 0.06047192960977554 | Test_Loss : 0.14188502728939056\n",
            "epoch : 220 | loss : 0.05704536288976669 | Test_Loss : 0.13389287889003754\n",
            "epoch : 230 | loss : 0.053619634360075 | Test_Loss : 0.1259007751941681\n",
            "epoch : 240 | loss : 0.05019349977374077 | Test_Loss : 0.11790867894887924\n",
            "epoch : 250 | loss : 0.04676796495914459 | Test_Loss : 0.10957308858633041\n",
            "epoch : 260 | loss : 0.04334238916635513 | Test_Loss : 0.10158147662878036\n",
            "epoch : 270 | loss : 0.03991635888814926 | Test_Loss : 0.0935898870229721\n",
            "epoch : 280 | loss : 0.036490779370069504 | Test_Loss : 0.08525427430868149\n",
            "epoch : 290 | loss : 0.03306524083018303 | Test_Loss : 0.07726269215345383\n",
            "epoch : 300 | loss : 0.02963920868933201 | Test_Loss : 0.06927108764648438\n",
            "epoch : 310 | loss : 0.026213597506284714 | Test_Loss : 0.06093548610806465\n",
            "epoch : 320 | loss : 0.022788094356656075 | Test_Loss : 0.052943892776966095\n",
            "epoch : 330 | loss : 0.019362065941095352 | Test_Loss : 0.04495229572057724\n",
            "epoch : 340 | loss : 0.015936415642499924 | Test_Loss : 0.036616697907447815\n",
            "epoch : 350 | loss : 0.012510955333709717 | Test_Loss : 0.028625082224607468\n",
            "epoch : 360 | loss : 0.009084919467568398 | Test_Loss : 0.020633500069379807\n",
            "epoch : 370 | loss : 0.005659233313053846 | Test_Loss : 0.012297901324927807\n",
            "epoch : 380 | loss : 0.002236108761280775 | Test_Loss : 0.003966724965721369\n",
            "epoch : 390 | loss : 0.00936198141425848 | Test_Loss : 0.0004979133373126388\n"
          ]
        }
      ]
    },
    {
      "cell_type": "code",
      "source": [
        "with torch.inference_mode():\n",
        "  y_preds_new = model_0(X_test)"
      ],
      "metadata": {
        "id": "EaNUCTybQNsc"
      },
      "execution_count": 58,
      "outputs": []
    },
    {
      "cell_type": "code",
      "source": [
        "model_0.state_dict()#initial random paramerter wihtod  training loop"
      ],
      "metadata": {
        "colab": {
          "base_uri": "https://localhost:8080/"
        },
        "id": "nZAglSl1LEWk",
        "outputId": "c462942c-2e43-4534-b46c-bbd717cd9f01"
      },
      "execution_count": 59,
      "outputs": [
        {
          "output_type": "execute_result",
          "data": {
            "text/plain": [
              "OrderedDict([('weight', tensor([0.7593])), ('bias', tensor([0.2557]))])"
            ]
          },
          "metadata": {},
          "execution_count": 59
        }
      ]
    },
    {
      "cell_type": "code",
      "source": [
        "weight ,bias # original params"
      ],
      "metadata": {
        "colab": {
          "base_uri": "https://localhost:8080/"
        },
        "id": "wvB_Zt0FOoYV",
        "outputId": "bba9bcb2-a7f4-43e8-d16f-811ce10ea218"
      },
      "execution_count": 60,
      "outputs": [
        {
          "output_type": "execute_result",
          "data": {
            "text/plain": [
              "(0.75, 0.25)"
            ]
          },
          "metadata": {},
          "execution_count": 60
        }
      ]
    },
    {
      "cell_type": "code",
      "source": [
        "plot_predictions(predictions=y_preds)"
      ],
      "metadata": {
        "colab": {
          "base_uri": "https://localhost:8080/",
          "height": 460
        },
        "id": "0DE_cfULOrpd",
        "outputId": "aa51e1d5-e4bb-435b-bdb6-d84d95a3abbe"
      },
      "execution_count": 61,
      "outputs": [
        {
          "output_type": "display_data",
          "data": {
            "text/plain": [
              "<Figure size 1000x700 with 1 Axes>"
            ],
            "image/png": "[encoded data removed]"
          },
          "metadata": {}
        }
      ]
    },
    {
      "cell_type": "code",
      "source": [
        "plot_predictions(predictions=y_preds_new)"
      ],
      "metadata": {
        "colab": {
          "base_uri": "https://localhost:8080/",
          "height": 460
        },
        "id": "PgyJvIFuQj6E",
        "outputId": "551b58d5-0946-4257-945d-d668fbd3cd7d"
      },
      "execution_count": 62,
      "outputs": [
        {
          "output_type": "display_data",
          "data": {
            "text/plain": [
              "<Figure size 1000x700 with 1 Axes>"
            ],
            "image/png": "[encoded data removed]"
          },
          "metadata": {}
        }
      ]
    },
    {
      "cell_type": "code",
      "source": [
        "epoch_count[:10] ,train_loss_count[:10],test_loss_count[:10]"
      ],
      "metadata": {
        "colab": {
          "base_uri": "https://localhost:8080/"
        },
        "id": "ZknR5jIZQor_",
        "outputId": "b892d92b-07eb-4092-fed9-0e5ff2917c55"
      },
      "execution_count": 63,
      "outputs": [
        {
          "output_type": "execute_result",
          "data": {
            "text/plain": [
              "([0, 10, 20, 30, 40, 50, 60, 70, 80, 90],\n",
              " [tensor(0.4728, grad_fn=<MeanBackward0>),\n",
              "  tensor(0.3572, grad_fn=<MeanBackward0>),\n",
              "  tensor(0.2416, grad_fn=<MeanBackward0>),\n",
              "  tensor(0.1575, grad_fn=<MeanBackward0>),\n",
              "  tensor(0.1303, grad_fn=<MeanBackward0>),\n",
              "  tensor(0.1191, grad_fn=<MeanBackward0>),\n",
              "  tensor(0.1132, grad_fn=<MeanBackward0>),\n",
              "  tensor(0.1089, grad_fn=<MeanBackward0>),\n",
              "  tensor(0.1051, grad_fn=<MeanBackward0>),\n",
              "  tensor(0.1016, grad_fn=<MeanBackward0>)],\n",
              " [tensor(0.2352),\n",
              "  tensor(0.0998),\n",
              "  tensor(0.0384),\n",
              "  tensor(0.1426),\n",
              "  tensor(0.1958),\n",
              "  tensor(0.2223),\n",
              "  tensor(0.2343),\n",
              "  tensor(0.2379),\n",
              "  tensor(0.2365),\n",
              "  tensor(0.2323)])"
            ]
          },
          "metadata": {},
          "execution_count": 63
        }
      ]
    },
    {
      "cell_type": "code",
      "source": [
        "## Plotting The Loss Curves\n",
        "\n",
        "plt.plot(epoch_count ,torch.tensor(train_loss_count).numpy() , label=\"Train Loss\")\n",
        "plt.plot(epoch_count , test_loss_count , label=\"Test Loss\")\n",
        "plt.title(\"Training And Test Loss Curve\")\n",
        "plt.xlabel(\"Loss\")\n",
        "plt.ylabel(\"Epoch\")\n",
        "plt.legend()\n"
      ],
      "metadata": {
        "colab": {
          "base_uri": "https://localhost:8080/",
          "height": 489
        },
        "id": "6uUDPlK8-Pdy",
        "outputId": "ca57bcb1-acba-4686-8ce6-7ad673137e79"
      },
      "execution_count": 64,
      "outputs": [
        {
          "output_type": "execute_result",
          "data": {
            "text/plain": [
              "<matplotlib.legend.Legend at 0x7cb1f1243a50>"
            ]
          },
          "metadata": {},
          "execution_count": 64
        },
        {
          "output_type": "display_data",
          "data": {
            "text/plain": [
              "<Figure size 640x480 with 1 Axes>"
            ],
            "image/png": "[encoded data removed]"
          },
          "metadata": {}
        }
      ]
    },
    {
      "cell_type": "code",
      "source": [
        "!pip install pathlib"
      ],
      "metadata": {
        "colab": {
          "base_uri": "https://localhost:8080/"
        },
        "id": "h7fEeh6IA3Ex",
        "outputId": "efa4ec18-0dd6-4059-eea7-b34043037080"
      },
      "execution_count": 65,
      "outputs": [
        {
          "output_type": "stream",
          "name": "stdout",
          "text": [
            "Requirement already satisfied: pathlib in /usr/local/lib/python3.11/dist-packages (1.0.1)\n"
          ]
        }
      ]
    },
    {
      "cell_type": "code",
      "source": [
        "## Saving the Model\n",
        "from pathlib import Path\n",
        "\n",
        "#creat model directory\n",
        "Model_Path = Path(\"models\")\n",
        "Model_Path.mkdir(parents=True , exist_ok=True)\n",
        "\n",
        "#model save path\n",
        "\n",
        "Model_name = \"workflow_model_0.pth\"\n",
        "Model_save_path = Model_Path/Model_name\n",
        "\n",
        "# save the model state dict\n",
        "\n",
        "print(f\"Saving Model at: {Model_save_path}\")\n",
        "torch.save(model_0.state_dict(),Model_save_path)\n"
      ],
      "metadata": {
        "id": "owB25HZpAEm7",
        "colab": {
          "base_uri": "https://localhost:8080/"
        },
        "outputId": "4be1af34-c870-4d02-da0c-cdb9c9e7be73"
      },
      "execution_count": 70,
      "outputs": [
        {
          "output_type": "stream",
          "name": "stdout",
          "text": [
            "Saving Model at: models/workflow_model_0.pth\n"
          ]
        }
      ]
    },
    {
      "cell_type": "code",
      "source": [
        "## Loading A saved Model\n",
        "\n",
        "# To load a saved state dict we have to instantiate a new instance of our model class\n",
        "\n",
        "loaded_model_0 = LinearRegressionModel()"
      ],
      "metadata": {
        "id": "gafBCsp7A-0x"
      },
      "execution_count": 71,
      "outputs": []
    },
    {
      "cell_type": "code",
      "source": [
        "loaded_model_0.state_dict()"
      ],
      "metadata": {
        "colab": {
          "base_uri": "https://localhost:8080/"
        },
        "id": "QfWV7R0pEJ38",
        "outputId": "1664a5ab-b746-4c5b-b05b-bafd1691ea7f"
      },
      "execution_count": 72,
      "outputs": [
        {
          "output_type": "execute_result",
          "data": {
            "text/plain": [
              "OrderedDict([('weight', tensor([0.2345])), ('bias', tensor([0.2303]))])"
            ]
          },
          "metadata": {},
          "execution_count": 72
        }
      ]
    },
    {
      "cell_type": "code",
      "source": [
        "loaded_model_0.load_state_dict(torch.load(f=Model_save_path ,\n",
        "                                           weights_only=False))"
      ],
      "metadata": {
        "colab": {
          "base_uri": "https://localhost:8080/"
        },
        "id": "xpHUZE1xEQxA",
        "outputId": "4e4e13fd-54e4-4383-9e5a-35cb34c6f818"
      },
      "execution_count": 73,
      "outputs": [
        {
          "output_type": "execute_result",
          "data": {
            "text/plain": [
              "<All keys matched successfully>"
            ]
          },
          "metadata": {},
          "execution_count": 73
        }
      ]
    },
    {
      "cell_type": "code",
      "source": [
        "loaded_model_0.state_dict()"
      ],
      "metadata": {
        "colab": {
          "base_uri": "https://localhost:8080/"
        },
        "id": "1wAkHxGQErm3",
        "outputId": "8d67c652-6c94-4fe6-8b48-bb883c8ddd04"
      },
      "execution_count": 74,
      "outputs": [
        {
          "output_type": "execute_result",
          "data": {
            "text/plain": [
              "OrderedDict([('weight', tensor([0.7593])), ('bias', tensor([0.2557]))])"
            ]
          },
          "metadata": {},
          "execution_count": 74
        }
      ]
    },
    {
      "cell_type": "code",
      "source": [
        "## making predictions with loaded model\n",
        "loaded_model_0.eval()\n",
        "with torch.inference_mode():\n",
        "  y_preds_loaded = loaded_model_0(X_test)\n",
        "y_preds_loaded"
      ],
      "metadata": {
        "colab": {
          "base_uri": "https://localhost:8080/"
        },
        "id": "VXSGGpBjGomF",
        "outputId": "c0ddfb78-a6de-48bc-ac4f-224b1bac1c13"
      },
      "execution_count": 76,
      "outputs": [
        {
          "output_type": "execute_result",
          "data": {
            "text/plain": [
              "tensor([[0.8631],\n",
              "        [0.8707],\n",
              "        [0.8783],\n",
              "        [0.8859],\n",
              "        [0.8935],\n",
              "        [0.9011],\n",
              "        [0.9087],\n",
              "        [0.9163],\n",
              "        [0.9239],\n",
              "        [0.9315],\n",
              "        [0.9391],\n",
              "        [0.9467],\n",
              "        [0.9543],\n",
              "        [0.9619],\n",
              "        [0.9695],\n",
              "        [0.9770],\n",
              "        [0.9846],\n",
              "        [0.9922],\n",
              "        [0.9998],\n",
              "        [1.0074]])"
            ]
          },
          "metadata": {},
          "execution_count": 76
        }
      ]
    },
    {
      "cell_type": "code",
      "source": [
        "model_0.eval()\n",
        "with torch.inference_mode():\n",
        "  y_preds = loaded_model_0(X_test)\n",
        "y_preds"
      ],
      "metadata": {
        "colab": {
          "base_uri": "https://localhost:8080/"
        },
        "id": "Dx870dnlHUXs",
        "outputId": "e19b24b6-1f14-420f-ed9d-f0d3eaaa3652"
      },
      "execution_count": 77,
      "outputs": [
        {
          "output_type": "execute_result",
          "data": {
            "text/plain": [
              "tensor([[0.8631],\n",
              "        [0.8707],\n",
              "        [0.8783],\n",
              "        [0.8859],\n",
              "        [0.8935],\n",
              "        [0.9011],\n",
              "        [0.9087],\n",
              "        [0.9163],\n",
              "        [0.9239],\n",
              "        [0.9315],\n",
              "        [0.9391],\n",
              "        [0.9467],\n",
              "        [0.9543],\n",
              "        [0.9619],\n",
              "        [0.9695],\n",
              "        [0.9770],\n",
              "        [0.9846],\n",
              "        [0.9922],\n",
              "        [0.9998],\n",
              "        [1.0074]])"
            ]
          },
          "metadata": {},
          "execution_count": 77
        }
      ]
    },
    {
      "cell_type": "code",
      "source": [
        "y_preds == y_preds_loaded"
      ],
      "metadata": {
        "colab": {
          "base_uri": "https://localhost:8080/"
        },
        "id": "KEX3zusUHfOR",
        "outputId": "e5421255-8ae7-48fb-9758-72b6d42ce898"
      },
      "execution_count": 78,
      "outputs": [
        {
          "output_type": "execute_result",
          "data": {
            "text/plain": [
              "tensor([[True],\n",
              "        [True],\n",
              "        [True],\n",
              "        [True],\n",
              "        [True],\n",
              "        [True],\n",
              "        [True],\n",
              "        [True],\n",
              "        [True],\n",
              "        [True],\n",
              "        [True],\n",
              "        [True],\n",
              "        [True],\n",
              "        [True],\n",
              "        [True],\n",
              "        [True],\n",
              "        [True],\n",
              "        [True],\n",
              "        [True],\n",
              "        [True]])"
            ]
          },
          "metadata": {},
          "execution_count": 78
        }
      ]
    },
    {
      "cell_type": "code",
      "source": [],
      "metadata": {
        "id": "IMDcqQOMHi_s"
      },
      "execution_count": null,
      "outputs": []
    }
  ]
}